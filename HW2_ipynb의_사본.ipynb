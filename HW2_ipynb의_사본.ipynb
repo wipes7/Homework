{
  "nbformat": 4,
  "nbformat_minor": 0,
  "metadata": {
    "colab": {
      "name": "HW2.ipynb의 사본",
      "provenance": [],
      "collapsed_sections": [],
      "include_colab_link": true
    },
    "kernelspec": {
      "name": "python3",
      "display_name": "Python 3"
    },
    "language_info": {
      "name": "python"
    },
    "accelerator": "GPU"
  },
  "cells": [
    {
      "cell_type": "markdown",
      "metadata": {
        "id": "view-in-github",
        "colab_type": "text"
      },
      "source": [
        "<a href=\"https://colab.research.google.com/github/wipes7/Homework/blob/main/HW2_ipynb%EC%9D%98_%EC%82%AC%EB%B3%B8.ipynb\" target=\"_parent\"><img src=\"https://colab.research.google.com/assets/colab-badge.svg\" alt=\"Open In Colab\"/></a>"
      ]
    },
    {
      "cell_type": "markdown",
      "source": [
        "## HW 2\n",
        "Answer folloing questions \n",
        "\n"
      ],
      "metadata": {
        "id": "OwBySVVU5h6M"
      }
    },
    {
      "cell_type": "code",
      "execution_count": null,
      "metadata": {
        "id": "aZSgHuiR5W1k"
      },
      "outputs": [],
      "source": [
        ""
      ]
    },
    {
      "cell_type": "markdown",
      "source": [
        "### Below is one of the example code for binary-class classification problem on IMDB dataset"
      ],
      "metadata": {
        "id": "qEqK8L1k6PSd"
      }
    },
    {
      "cell_type": "code",
      "source": [
        "from tensorflow.keras.datasets import imdb\n",
        "(train_data, train_labels), (test_data, test_labels) = imdb.load_data(\n",
        "    num_words=10000)"
      ],
      "metadata": {
        "id": "WKvVq8pQ6YNt",
        "colab": {
          "base_uri": "https://localhost:8080/"
        },
        "outputId": "0952bbe8-ab92-4818-9fb7-3e7f0a137664"
      },
      "execution_count": 1,
      "outputs": [
        {
          "output_type": "stream",
          "name": "stdout",
          "text": [
            "Downloading data from https://storage.googleapis.com/tensorflow/tf-keras-datasets/imdb.npz\n",
            "17465344/17464789 [==============================] - 1s 0us/step\n",
            "17473536/17464789 [==============================] - 1s 0us/step\n"
          ]
        }
      ]
    },
    {
      "cell_type": "code",
      "source": [
        "import numpy as np\n",
        "def vectorize_sequences(sequences, dimension=10000):\n",
        "    results = np.zeros((len(sequences), dimension))\n",
        "    for i, sequence in enumerate(sequences):\n",
        "        for j in sequence:\n",
        "            results[i, j] = 1.\n",
        "    return results\n",
        "x_train = vectorize_sequences(train_data)\n",
        "x_test = vectorize_sequences(test_data)"
      ],
      "metadata": {
        "id": "IFml1LhPXCsk"
      },
      "execution_count": 2,
      "outputs": []
    },
    {
      "cell_type": "code",
      "source": [
        "y_train = np.asarray(train_labels).astype(\"float32\")\n",
        "y_test = np.asarray(test_labels).astype(\"float32\")"
      ],
      "metadata": {
        "id": "FCxmgWVYXHoD"
      },
      "execution_count": 3,
      "outputs": []
    },
    {
      "cell_type": "code",
      "source": [
        "y_train[:5]"
      ],
      "metadata": {
        "colab": {
          "base_uri": "https://localhost:8080/"
        },
        "id": "RMI28KpIXVYE",
        "outputId": "c042e690-33d9-4149-dcc1-f37c5ada726a"
      },
      "execution_count": 4,
      "outputs": [
        {
          "output_type": "execute_result",
          "data": {
            "text/plain": [
              "array([1., 0., 0., 1., 0.], dtype=float32)"
            ]
          },
          "metadata": {},
          "execution_count": 4
        }
      ]
    },
    {
      "cell_type": "code",
      "source": [
        "from tensorflow import keras\n",
        "from tensorflow.keras import layers\n",
        "\n",
        "model = keras.Sequential([\n",
        "    layers.Dense(16, activation=\"relu\"),\n",
        "    layers.Dense(16, activation=\"relu\"),\n",
        "    layers.Dense(1, activation=\"sigmoid\")\n",
        "])"
      ],
      "metadata": {
        "id": "xgDMHxOVXKRE"
      },
      "execution_count": 5,
      "outputs": []
    },
    {
      "cell_type": "code",
      "source": [
        "model.compile(optimizer=\"rmsprop\",\n",
        "              loss=\"binary_crossentropy\",\n",
        "              metrics=[\"accuracy\"])"
      ],
      "metadata": {
        "id": "tT4KACL9XdNE"
      },
      "execution_count": 6,
      "outputs": []
    },
    {
      "cell_type": "code",
      "source": [
        "x_val = x_train[:10000]\n",
        "partial_x_train = x_train[10000:]\n",
        "y_val = y_train[:10000]\n",
        "partial_y_train = y_train[10000:]"
      ],
      "metadata": {
        "id": "k-Ufwj3iXc8l"
      },
      "execution_count": 7,
      "outputs": []
    },
    {
      "cell_type": "code",
      "source": [
        "history = model.fit(partial_x_train,\n",
        "                    partial_y_train,\n",
        "                    epochs=20,\n",
        "                    batch_size=512,\n",
        "                    validation_data=(x_val, y_val))"
      ],
      "metadata": {
        "id": "5kJLbfX3Xp_U",
        "outputId": "f2abe22e-9afa-400e-a961-ae2d6f06f4cb",
        "colab": {
          "base_uri": "https://localhost:8080/"
        }
      },
      "execution_count": 8,
      "outputs": [
        {
          "output_type": "stream",
          "name": "stdout",
          "text": [
            "Epoch 1/20\n",
            "30/30 [==============================] - 5s 44ms/step - loss: 0.4973 - accuracy: 0.7841 - val_loss: 0.3708 - val_accuracy: 0.8724\n",
            "Epoch 2/20\n",
            "30/30 [==============================] - 1s 21ms/step - loss: 0.2930 - accuracy: 0.9045 - val_loss: 0.3057 - val_accuracy: 0.8849\n",
            "Epoch 3/20\n",
            "30/30 [==============================] - 1s 24ms/step - loss: 0.2168 - accuracy: 0.9301 - val_loss: 0.2851 - val_accuracy: 0.8880\n",
            "Epoch 4/20\n",
            "30/30 [==============================] - 1s 21ms/step - loss: 0.1693 - accuracy: 0.9457 - val_loss: 0.2999 - val_accuracy: 0.8793\n",
            "Epoch 5/20\n",
            "30/30 [==============================] - 1s 20ms/step - loss: 0.1357 - accuracy: 0.9589 - val_loss: 0.2893 - val_accuracy: 0.8850\n",
            "Epoch 6/20\n",
            "30/30 [==============================] - 1s 21ms/step - loss: 0.1146 - accuracy: 0.9640 - val_loss: 0.3005 - val_accuracy: 0.8845\n",
            "Epoch 7/20\n",
            "30/30 [==============================] - 1s 20ms/step - loss: 0.0959 - accuracy: 0.9722 - val_loss: 0.3162 - val_accuracy: 0.8824\n",
            "Epoch 8/20\n",
            "30/30 [==============================] - 1s 24ms/step - loss: 0.0775 - accuracy: 0.9781 - val_loss: 0.3570 - val_accuracy: 0.8754\n",
            "Epoch 9/20\n",
            "30/30 [==============================] - 1s 25ms/step - loss: 0.0647 - accuracy: 0.9831 - val_loss: 0.3582 - val_accuracy: 0.8785\n",
            "Epoch 10/20\n",
            "30/30 [==============================] - 1s 20ms/step - loss: 0.0504 - accuracy: 0.9886 - val_loss: 0.4159 - val_accuracy: 0.8698\n",
            "Epoch 11/20\n",
            "30/30 [==============================] - 1s 21ms/step - loss: 0.0418 - accuracy: 0.9913 - val_loss: 0.4185 - val_accuracy: 0.8740\n",
            "Epoch 12/20\n",
            "30/30 [==============================] - 1s 21ms/step - loss: 0.0355 - accuracy: 0.9928 - val_loss: 0.4403 - val_accuracy: 0.8741\n",
            "Epoch 13/20\n",
            "30/30 [==============================] - 1s 20ms/step - loss: 0.0285 - accuracy: 0.9941 - val_loss: 0.4770 - val_accuracy: 0.8728\n",
            "Epoch 14/20\n",
            "30/30 [==============================] - 1s 21ms/step - loss: 0.0181 - accuracy: 0.9980 - val_loss: 0.6062 - val_accuracy: 0.8508\n",
            "Epoch 15/20\n",
            "30/30 [==============================] - 1s 21ms/step - loss: 0.0181 - accuracy: 0.9973 - val_loss: 0.5577 - val_accuracy: 0.8667\n",
            "Epoch 16/20\n",
            "30/30 [==============================] - 1s 22ms/step - loss: 0.0143 - accuracy: 0.9981 - val_loss: 0.5648 - val_accuracy: 0.8690\n",
            "Epoch 17/20\n",
            "30/30 [==============================] - 1s 25ms/step - loss: 0.0112 - accuracy: 0.9985 - val_loss: 0.6117 - val_accuracy: 0.8664\n",
            "Epoch 18/20\n",
            "30/30 [==============================] - 1s 25ms/step - loss: 0.0059 - accuracy: 0.9998 - val_loss: 0.6278 - val_accuracy: 0.8666\n",
            "Epoch 19/20\n",
            "30/30 [==============================] - 1s 27ms/step - loss: 0.0089 - accuracy: 0.9986 - val_loss: 0.6583 - val_accuracy: 0.8655\n",
            "Epoch 20/20\n",
            "30/30 [==============================] - 1s 21ms/step - loss: 0.0075 - accuracy: 0.9980 - val_loss: 0.6882 - val_accuracy: 0.8649\n"
          ]
        }
      ]
    },
    {
      "cell_type": "markdown",
      "source": [
        "### Q1 Binary classification is multi-class classification with two classes so we can modify our model as below:"
      ],
      "metadata": {
        "id": "AFsXMZmW6e6F"
      }
    },
    {
      "cell_type": "code",
      "source": [
        "model2 = keras.Sequential([\n",
        "    layers.Dense(16, activation=\"relu\"),\n",
        "    layers.Dense(16, activation=\"relu\"),\n",
        "    layers.Dense(1, activation=\"softmax\")\n",
        "])"
      ],
      "metadata": {
        "id": "mXXKBxo36kPl"
      },
      "execution_count": 9,
      "outputs": []
    },
    {
      "cell_type": "markdown",
      "source": [
        "### Complete the codes for compile and model fitting. "
      ],
      "metadata": {
        "id": "PsOrD_13YWn1"
      }
    },
    {
      "cell_type": "code",
      "source": [
        "model2.compile(optimizer=\"rmsprop\",\n",
        "              loss=\"binary_crossentropy\",\n",
        "              metrics=[\"accuracy\"])\n",
        "\n",
        "\n",
        "model2.fit(x_train, y_train, epochs=4, batch_size=512)"
      ],
      "metadata": {
        "id": "Hj4AauQvYT7F",
        "outputId": "3ede86bd-b5d5-4417-b4cb-772b4a3cb022",
        "colab": {
          "base_uri": "https://localhost:8080/"
        }
      },
      "execution_count": 10,
      "outputs": [
        {
          "output_type": "stream",
          "name": "stdout",
          "text": [
            "Epoch 1/4\n",
            "49/49 [==============================] - 1s 14ms/step - loss: 0.4437 - accuracy: 0.5000\n",
            "Epoch 2/4\n",
            "49/49 [==============================] - 1s 14ms/step - loss: 0.2544 - accuracy: 0.5000\n",
            "Epoch 3/4\n",
            "49/49 [==============================] - 1s 14ms/step - loss: 0.1988 - accuracy: 0.5000\n",
            "Epoch 4/4\n",
            "49/49 [==============================] - 1s 14ms/step - loss: 0.1647 - accuracy: 0.5000\n"
          ]
        },
        {
          "output_type": "execute_result",
          "data": {
            "text/plain": [
              "<keras.callbacks.History at 0x7f8fe5f4bf10>"
            ]
          },
          "metadata": {},
          "execution_count": 10
        }
      ]
    },
    {
      "cell_type": "markdown",
      "source": [
        "### Q2 Below is visualization of the validation loss. We can see overfitting after 5 epochs.  "
      ],
      "metadata": {
        "id": "6SGxXX70Ylr_"
      }
    },
    {
      "cell_type": "code",
      "source": [
        "import matplotlib.pyplot as plt\n",
        "history_dict = history.history\n",
        "loss_values = history_dict[\"loss\"]\n",
        "val_loss_values = history_dict[\"val_loss\"]\n",
        "epochs = range(1, len(loss_values) + 1)\n",
        "plt.plot(epochs, loss_values, \"bo\", label=\"Training loss\")\n",
        "plt.plot(epochs, val_loss_values, \"b\", label=\"Validation loss\")\n",
        "plt.title(\"Training and validation loss\")\n",
        "plt.xlabel(\"Epochs\")\n",
        "plt.ylabel(\"Loss\")\n",
        "plt.legend()\n",
        "plt.show()"
      ],
      "metadata": {
        "colab": {
          "base_uri": "https://localhost:8080/",
          "height": 295
        },
        "id": "X8rcODQ7Yk_E",
        "outputId": "a3519831-f8d5-4196-c599-41ae89ae1cfd"
      },
      "execution_count": 11,
      "outputs": [
        {
          "output_type": "display_data",
          "data": {
            "text/plain": [
              "<Figure size 432x288 with 1 Axes>"
            ],
            "image/png": "[encoded data removed]"
          },
          "metadata": {
            "needs_background": "light"
          }
        }
      ]
    },
    {
      "cell_type": "markdown",
      "source": [
        "### Add dropout layers and visualize the validation loss of your new model."
      ],
      "metadata": {
        "id": "4LbAGmB-aD-d"
      }
    },
    {
      "cell_type": "code",
      "source": [
        "\n",
        "model2_dr = keras.Sequential([\n",
        "    layers.Dense(16, activation=\"relu\"),\n",
        "    layers.Dropout(0.5),\n",
        "    layers.Dense(16, activation=\"relu\"),\n",
        "    layers.Dropout(0.5),\n",
        "    layers.Dense(1, activation=\"softmax\")\n",
        "])\n",
        "model2_dr.compile(optimizer=\"rmsprop\",\n",
        "              loss=\"binary_crossentropy\",\n",
        "              metrics=[\"accuracy\"])\n",
        "history_dropout = model2_dr.fit(\n",
        "    x_train, y_train,\n",
        "    epochs=20, batch_size=512, validation_split=0.4)\n",
        "\n",
        "import matplotlib.pyplot as plt\n",
        "history_dict = history_dropout.history\n",
        "loss_values = history_dict[\"loss\"]\n",
        "val_loss_values = history_dict[\"val_loss\"]\n",
        "epochs = range(1, len(loss_values) + 1)\n",
        "plt.plot(epochs, loss_values, \"bo\", label=\"Training loss\")\n",
        "plt.plot(epochs, val_loss_values, \"b\", label=\"Validation loss\")\n",
        "plt.title(\"Training and validation loss\")\n",
        "plt.xlabel(\"Epochs\")\n",
        "plt.ylabel(\"Loss\")\n",
        "plt.legend()\n",
        "plt.show()\n",
        "\n"
      ],
      "metadata": {
        "id": "uY9QQxR1Z013",
        "outputId": "8ff8a404-d12a-48cf-b396-f41125789fe6",
        "colab": {
          "base_uri": "https://localhost:8080/",
          "height": 1000
        }
      },
      "execution_count": 12,
      "outputs": [
        {
          "output_type": "stream",
          "name": "stdout",
          "text": [
            "Epoch 1/20\n",
            "30/30 [==============================] - 2s 33ms/step - loss: 0.6427 - accuracy: 0.5022 - val_loss: 0.5547 - val_accuracy: 0.4967\n",
            "Epoch 2/20\n",
            "30/30 [==============================] - 1s 21ms/step - loss: 0.5394 - accuracy: 0.5022 - val_loss: 0.4641 - val_accuracy: 0.4967\n",
            "Epoch 3/20\n",
            "30/30 [==============================] - 1s 21ms/step - loss: 0.4696 - accuracy: 0.5022 - val_loss: 0.3876 - val_accuracy: 0.4967\n",
            "Epoch 4/20\n",
            "30/30 [==============================] - 1s 21ms/step - loss: 0.4086 - accuracy: 0.5022 - val_loss: 0.3362 - val_accuracy: 0.4967\n",
            "Epoch 5/20\n",
            "30/30 [==============================] - 1s 21ms/step - loss: 0.3628 - accuracy: 0.5022 - val_loss: 0.3086 - val_accuracy: 0.4967\n",
            "Epoch 6/20\n",
            "30/30 [==============================] - 1s 25ms/step - loss: 0.3157 - accuracy: 0.5022 - val_loss: 0.2887 - val_accuracy: 0.4967\n",
            "Epoch 7/20\n",
            "30/30 [==============================] - 1s 24ms/step - loss: 0.2798 - accuracy: 0.5022 - val_loss: 0.2820 - val_accuracy: 0.4967\n",
            "Epoch 8/20\n",
            "30/30 [==============================] - 1s 22ms/step - loss: 0.2469 - accuracy: 0.5022 - val_loss: 0.2805 - val_accuracy: 0.4967\n",
            "Epoch 9/20\n",
            "30/30 [==============================] - 1s 22ms/step - loss: 0.2143 - accuracy: 0.5022 - val_loss: 0.2945 - val_accuracy: 0.4967\n",
            "Epoch 10/20\n",
            "30/30 [==============================] - 1s 21ms/step - loss: 0.1934 - accuracy: 0.5022 - val_loss: 0.3017 - val_accuracy: 0.4967\n",
            "Epoch 11/20\n",
            "30/30 [==============================] - 1s 21ms/step - loss: 0.1736 - accuracy: 0.5022 - val_loss: 0.3254 - val_accuracy: 0.4967\n",
            "Epoch 12/20\n",
            "30/30 [==============================] - 1s 25ms/step - loss: 0.1638 - accuracy: 0.5022 - val_loss: 0.3332 - val_accuracy: 0.4967\n",
            "Epoch 13/20\n",
            "30/30 [==============================] - 1s 21ms/step - loss: 0.1444 - accuracy: 0.5022 - val_loss: 0.3654 - val_accuracy: 0.4967\n",
            "Epoch 14/20\n",
            "30/30 [==============================] - 1s 22ms/step - loss: 0.1349 - accuracy: 0.5022 - val_loss: 0.3890 - val_accuracy: 0.4967\n",
            "Epoch 15/20\n",
            "30/30 [==============================] - 1s 21ms/step - loss: 0.1188 - accuracy: 0.5022 - val_loss: 0.4395 - val_accuracy: 0.4967\n",
            "Epoch 16/20\n",
            "30/30 [==============================] - 1s 21ms/step - loss: 0.1093 - accuracy: 0.5022 - val_loss: 0.4573 - val_accuracy: 0.4967\n",
            "Epoch 17/20\n",
            "30/30 [==============================] - 1s 21ms/step - loss: 0.1064 - accuracy: 0.5022 - val_loss: 0.4481 - val_accuracy: 0.4967\n",
            "Epoch 18/20\n",
            "30/30 [==============================] - 1s 21ms/step - loss: 0.0967 - accuracy: 0.5022 - val_loss: 0.4919 - val_accuracy: 0.4967\n",
            "Epoch 19/20\n",
            "30/30 [==============================] - 1s 21ms/step - loss: 0.0898 - accuracy: 0.5022 - val_loss: 0.5316 - val_accuracy: 0.4967\n",
            "Epoch 20/20\n",
            "30/30 [==============================] - 1s 24ms/step - loss: 0.0898 - accuracy: 0.5022 - val_loss: 0.5489 - val_accuracy: 0.4967\n"
          ]
        },
        {
          "output_type": "display_data",
          "data": {
            "text/plain": [
              "<Figure size 432x288 with 1 Axes>"
            ],
            "image/png": "[encoded data removed]"
          },
          "metadata": {
            "needs_background": "light"
          }
        }
      ]
    },
    {
      "cell_type": "markdown",
      "source": [
        "### Q3 Add l1 regularization on the second dense layer from the original model below. "
      ],
      "metadata": {
        "id": "Xs7jKhJKahhM"
      }
    },
    {
      "cell_type": "code",
      "source": [
        "from tensorflow.keras import regularizers\n",
        "model2_reg = keras.Sequential([\n",
        "    layers.Dense(16, activation=\"relu\"),\n",
        "        layers.Dense(16,\n",
        "                 kernel_regularizer=regularizers.l1(0.002),\n",
        "                 activation=\"relu\"),\n",
        "    layers.Dense(1, activation=\"softmax\")\n",
        "])"
      ],
      "metadata": {
        "id": "VeuwleNJa9r9"
      },
      "execution_count": 13,
      "outputs": []
    },
    {
      "cell_type": "markdown",
      "source": [
        "### Finish the training and compare the dropout model(model from Q2) and l1 regularization model after visualizing their validation losses."
      ],
      "metadata": {
        "id": "e9yx1WLrbJUd"
      }
    },
    {
      "cell_type": "code",
      "source": [
        "model2_reg.compile(optimizer=\"rmsprop\",\n",
        "              loss=\"binary_crossentropy\",\n",
        "              metrics=[\"accuracy\"])\n",
        "history_l2_reg = model2_reg.fit(\n",
        "    x_train, y_train,\n",
        "    epochs=20, batch_size=512, validation_split=0.4)\n",
        "\n",
        "import matplotlib.pyplot as plt\n",
        "history_dict = history_l2_reg.history\n",
        "loss_values = history_dict[\"loss\"]\n",
        "val_loss_values = history_dict[\"val_loss\"]\n",
        "epochs = range(1, len(loss_values) + 1)\n",
        "plt.plot(epochs, loss_values, \"bo\", label=\"Training loss\")\n",
        "plt.plot(epochs, val_loss_values, \"b\", label=\"Validation loss\")\n",
        "plt.title(\"Training and validation loss\")\n",
        "plt.xlabel(\"Epochs\")\n",
        "plt.ylabel(\"Loss\")\n",
        "plt.legend()\n",
        "plt.show()\n",
        "\n",
        "## Dropout model's training loss is getting smaller and there is a certain point to prevent overfitting. But in l1 model, there is no certain point.  "
      ],
      "metadata": {
        "id": "EyL_jfmNbWe_",
        "outputId": "e23d275c-6166-4b9c-fda8-3795b08552d0",
        "colab": {
          "base_uri": "https://localhost:8080/",
          "height": 1000
        }
      },
      "execution_count": 14,
      "outputs": [
        {
          "output_type": "stream",
          "name": "stdout",
          "text": [
            "Epoch 1/20\n",
            "30/30 [==============================] - 2s 35ms/step - loss: 0.6271 - accuracy: 0.5022 - val_loss: 0.4945 - val_accuracy: 0.4967\n",
            "Epoch 2/20\n",
            "30/30 [==============================] - 1s 22ms/step - loss: 0.4142 - accuracy: 0.5022 - val_loss: 0.4069 - val_accuracy: 0.4967\n",
            "Epoch 3/20\n",
            "30/30 [==============================] - 1s 21ms/step - loss: 0.3239 - accuracy: 0.5022 - val_loss: 0.3691 - val_accuracy: 0.4967\n",
            "Epoch 4/20\n",
            "30/30 [==============================] - 1s 21ms/step - loss: 0.2695 - accuracy: 0.5022 - val_loss: 0.3618 - val_accuracy: 0.4967\n",
            "Epoch 5/20\n",
            "30/30 [==============================] - 1s 25ms/step - loss: 0.2323 - accuracy: 0.5022 - val_loss: 0.3686 - val_accuracy: 0.4967\n",
            "Epoch 6/20\n",
            "30/30 [==============================] - 1s 21ms/step - loss: 0.2021 - accuracy: 0.5022 - val_loss: 0.3686 - val_accuracy: 0.4967\n",
            "Epoch 7/20\n",
            "30/30 [==============================] - 1s 21ms/step - loss: 0.1817 - accuracy: 0.5022 - val_loss: 0.3794 - val_accuracy: 0.4967\n",
            "Epoch 8/20\n",
            "30/30 [==============================] - 1s 22ms/step - loss: 0.1580 - accuracy: 0.5022 - val_loss: 0.4188 - val_accuracy: 0.4967\n",
            "Epoch 9/20\n",
            "30/30 [==============================] - 1s 21ms/step - loss: 0.1432 - accuracy: 0.5022 - val_loss: 0.4141 - val_accuracy: 0.4967\n",
            "Epoch 10/20\n",
            "30/30 [==============================] - 1s 21ms/step - loss: 0.1301 - accuracy: 0.5022 - val_loss: 0.4143 - val_accuracy: 0.4967\n",
            "Epoch 11/20\n",
            "30/30 [==============================] - 1s 25ms/step - loss: 0.1205 - accuracy: 0.5022 - val_loss: 0.4314 - val_accuracy: 0.4967\n",
            "Epoch 12/20\n",
            "30/30 [==============================] - 1s 22ms/step - loss: 0.1083 - accuracy: 0.5022 - val_loss: 0.4481 - val_accuracy: 0.4967\n",
            "Epoch 13/20\n",
            "30/30 [==============================] - 1s 22ms/step - loss: 0.1007 - accuracy: 0.5022 - val_loss: 0.4751 - val_accuracy: 0.4967\n",
            "Epoch 14/20\n",
            "30/30 [==============================] - 1s 22ms/step - loss: 0.0936 - accuracy: 0.5022 - val_loss: 0.4913 - val_accuracy: 0.4967\n",
            "Epoch 15/20\n",
            "30/30 [==============================] - 1s 21ms/step - loss: 0.0885 - accuracy: 0.5022 - val_loss: 0.5205 - val_accuracy: 0.4967\n",
            "Epoch 16/20\n",
            "30/30 [==============================] - 1s 21ms/step - loss: 0.0822 - accuracy: 0.5022 - val_loss: 0.5201 - val_accuracy: 0.4967\n",
            "Epoch 17/20\n",
            "30/30 [==============================] - 1s 22ms/step - loss: 0.0783 - accuracy: 0.5022 - val_loss: 0.5446 - val_accuracy: 0.4967\n",
            "Epoch 18/20\n",
            "30/30 [==============================] - 1s 21ms/step - loss: 0.0746 - accuracy: 0.5022 - val_loss: 0.5534 - val_accuracy: 0.4967\n",
            "Epoch 19/20\n",
            "30/30 [==============================] - 1s 21ms/step - loss: 0.0701 - accuracy: 0.5022 - val_loss: 0.5664 - val_accuracy: 0.4967\n",
            "Epoch 20/20\n",
            "30/30 [==============================] - 1s 21ms/step - loss: 0.0679 - accuracy: 0.5022 - val_loss: 0.5822 - val_accuracy: 0.4967\n"
          ]
        },
        {
          "output_type": "display_data",
          "data": {
            "text/plain": [
              "<Figure size 432x288 with 1 Axes>"
            ],
            "image/png": "[encoded data removed]"
          },
          "metadata": {
            "needs_background": "light"
          }
        }
      ]
    }
  ]
}